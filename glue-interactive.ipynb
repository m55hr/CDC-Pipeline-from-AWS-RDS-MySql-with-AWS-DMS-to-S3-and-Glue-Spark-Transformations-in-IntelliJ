{
 "cells": [
  {
   "cell_type": "code",
   "execution_count": 43,
   "outputs": [
    {
     "name": "stdout",
     "output_type": "stream",
     "text": [
      "Session ID: a5f5013f-7cae-4cc8-bfb9-18ee904dfa5b\n",
      "Status: READY\n",
      "Role: arn:aws:iam::767828724616:role/glue-role\n",
      "CreatedOn: 2024-08-11 19:28:58.329000+05:30\n",
      "GlueVersion: 4.0\n",
      "Session Type: glueetl\n",
      "Idle Timeout: 2880\n",
      "Tags: {'owner': '767828724616'}\n",
      "Worker Type: G.1X\n",
      "Number of Workers: 5\n",
      "Region: us-east-1\n",
      "Applying the following default arguments:\n",
      "--glue_kernel_version 1.0.6\n",
      "--enable-glue-datacatalog true\n",
      "Arguments Passed: ['--glue_kernel_version: 1.0.6', '--enable-glue-datacatalog: true']\n"
     ]
    }
   ],
   "source": [
    "%status"
   ],
   "metadata": {
    "collapsed": false,
    "ExecuteTime": {
     "end_time": "2024-08-12T18:25:07.011049800Z",
     "start_time": "2024-08-12T18:25:04.686498300Z"
    }
   }
  },
  {
   "cell_type": "code",
   "execution_count": 424,
   "outputs": [
    {
     "name": "stderr",
     "output_type": "stream",
     "text": [
      "You are already connected to a glueetl session a5f5013f-7cae-4cc8-bfb9-18ee904dfa5b.\n",
      "\n",
      "No change will be made to the current session that is set as glueetl. The session configuration change will apply to newly created sessions.\n"
     ]
    },
    {
     "name": "stdout",
     "output_type": "stream",
     "text": [
      "Current idle_timeout is 15 minutes.\n",
      "idle_timeout has been set to 15 minutes.\n"
     ]
    },
    {
     "name": "stderr",
     "output_type": "stream",
     "text": [
      "You are already connected to a glueetl session a5f5013f-7cae-4cc8-bfb9-18ee904dfa5b.\n",
      "\n",
      "No change will be made to the current session that is set as glueetl. The session configuration change will apply to newly created sessions.\n"
     ]
    },
    {
     "name": "stdout",
     "output_type": "stream",
     "text": [
      "Setting Glue version to: 4.0\n"
     ]
    },
    {
     "name": "stderr",
     "output_type": "stream",
     "text": [
      "You are already connected to a glueetl session a5f5013f-7cae-4cc8-bfb9-18ee904dfa5b.\n",
      "\n",
      "No change will be made to the current session that is set as glueetl. The session configuration change will apply to newly created sessions.\n"
     ]
    },
    {
     "name": "stdout",
     "output_type": "stream",
     "text": [
      "Previous worker type: G.1X\n",
      "Setting new worker type to: G.1X\n"
     ]
    },
    {
     "name": "stderr",
     "output_type": "stream",
     "text": [
      "You are already connected to a glueetl session a5f5013f-7cae-4cc8-bfb9-18ee904dfa5b.\n",
      "\n",
      "No change will be made to the current session that is set as glueetl. The session configuration change will apply to newly created sessions.\n"
     ]
    },
    {
     "name": "stdout",
     "output_type": "stream",
     "text": [
      "Previous number of workers: 1\n",
      "Setting new number of workers to: 1\n",
      "\n"
     ]
    }
   ],
   "source": [
    "%idle_timeout 15\n",
    "%glue_version 4.0\n",
    "%worker_type G.1X\n",
    "%number_of_workers 1\n",
    "\n",
    "import sys\n",
    "from awsglue.context import GlueContext\n",
    "from awsglue.job import Job\n",
    "from awsglue.utils import getResolvedOptions\n",
    "from pyspark.context import SparkContext\n",
    "from pyspark.sql import SparkSession\n",
    "from pyspark.sql.functions import when, col\n",
    "\n",
    "# Initialize Glue context and Spark session\n",
    "glueContext = GlueContext(SparkContext.getOrCreate())\n",
    "spark = glueContext.spark_session\n",
    "spark=SparkSession.builder.appName(\"CDC\").getOrCreate()\n"
   ],
   "metadata": {
    "collapsed": false,
    "ExecuteTime": {
     "end_time": "2024-08-12T18:25:08.806259400Z",
     "start_time": "2024-08-12T18:25:07.015042Z"
    }
   }
  },
  {
   "cell_type": "code",
   "execution_count": 425,
   "outputs": [
    {
     "name": "stdout",
     "output_type": "stream",
     "text": [
      "\n"
     ]
    }
   ],
   "source": [
    "s3_bucket = \"s3://cdc-pipeline-stage/sales/orders/LOAD00000001.csv\""
   ],
   "metadata": {
    "collapsed": false,
    "ExecuteTime": {
     "end_time": "2024-08-12T18:25:09.603286100Z",
     "start_time": "2024-08-12T18:25:08.809251800Z"
    }
   }
  },
  {
   "cell_type": "code",
   "execution_count": 426,
   "outputs": [
    {
     "name": "stdout",
     "output_type": "stream",
     "text": [
      "\n"
     ]
    }
   ],
   "source": [
    "# Read the CSV file from S3 into a Spark DataFrame\n",
    "full_df = spark.read.format(\"csv\") \\\n",
    "    .load(s3_bucket)"
   ],
   "metadata": {
    "collapsed": false,
    "ExecuteTime": {
     "end_time": "2024-08-12T18:25:10.411337900Z",
     "start_time": "2024-08-12T18:25:09.604284400Z"
    }
   }
  },
  {
   "cell_type": "code",
   "execution_count": 427,
   "outputs": [
    {
     "name": "stdout",
     "output_type": "stream",
     "text": [
      "+---+----------+----------+-------+\n",
      "|_c0|       _c1|       _c2|    _c3|\n",
      "+---+----------+----------+-------+\n",
      "|  1|  john doe|    laptop|1200.00|\n",
      "|  2|jane smith|smartphone| 800.00|\n",
      "+---+----------+----------+-------+\n",
      "only showing top 2 rows\n"
     ]
    }
   ],
   "source": [
    "full_df.show(2)"
   ],
   "metadata": {
    "collapsed": false,
    "ExecuteTime": {
     "end_time": "2024-08-12T18:25:11.220476400Z",
     "start_time": "2024-08-12T18:25:10.416324300Z"
    }
   }
  },
  {
   "cell_type": "code",
   "execution_count": 428,
   "outputs": [
    {
     "name": "stdout",
     "output_type": "stream",
     "text": [
      "\n"
     ]
    }
   ],
   "source": [
    "full_df = full_df \\\n",
    "    .withColumnRenamed(\"_c0\", \"orderid\") \\\n",
    "    .withColumnRenamed(\"_c1\", \"customername\") \\\n",
    "    .withColumnRenamed(\"_c2\", \"productname\") \\\n",
    "    .withColumnRenamed(\"_c3\", \"orderamount\")\n",
    "\n",
    "\n"
   ],
   "metadata": {
    "collapsed": false,
    "ExecuteTime": {
     "end_time": "2024-08-12T18:25:12.155524800Z",
     "start_time": "2024-08-12T18:25:11.223471300Z"
    }
   }
  },
  {
   "cell_type": "code",
   "execution_count": 429,
   "outputs": [
    {
     "name": "stdout",
     "output_type": "stream",
     "text": [
      "+-------+------------+-----------+-----------+\n",
      "|orderid|customername|productname|orderamount|\n",
      "+-------+------------+-----------+-----------+\n",
      "|      1|    john doe|     laptop|    1200.00|\n",
      "|      2|  jane smith| smartphone|     800.00|\n",
      "+-------+------------+-----------+-----------+\n",
      "only showing top 2 rows\n"
     ]
    }
   ],
   "source": [
    "full_df.show(2)"
   ],
   "metadata": {
    "collapsed": false,
    "ExecuteTime": {
     "end_time": "2024-08-12T18:25:13.075688900Z",
     "start_time": "2024-08-12T18:25:12.157509200Z"
    }
   }
  },
  {
   "cell_type": "code",
   "execution_count": 430,
   "outputs": [
    {
     "name": "stdout",
     "output_type": "stream",
     "text": [
      "\n"
     ]
    }
   ],
   "source": [
    "full_df.write.mode(\"OVERWRITE\").option(\"header\",\"true\").parquet(\"s3://cdc-dms-final/sales/orders/final_output/final_file.parquet\")"
   ],
   "metadata": {
    "collapsed": false,
    "ExecuteTime": {
     "end_time": "2024-08-12T18:25:15.220582800Z",
     "start_time": "2024-08-12T18:25:13.078681300Z"
    }
   }
  },
  {
   "cell_type": "code",
   "execution_count": 431,
   "outputs": [
    {
     "name": "stdout",
     "output_type": "stream",
     "text": [
      "\n"
     ]
    }
   ],
   "source": [
    "s3_bucket_final_file=\"s3://cdc-dms-final/sales/orders/final_output/final_file.parquet\"\n",
    "final_file_df=spark.read.format(\"parquet\").option(\"header\",\"true\").option(\"inferSchema\",\"true\").load(s3_bucket_final_file)\n"
   ],
   "metadata": {
    "collapsed": false,
    "ExecuteTime": {
     "end_time": "2024-08-12T18:25:17.364957400Z",
     "start_time": "2024-08-12T18:25:15.222551400Z"
    }
   }
  },
  {
   "cell_type": "code",
   "execution_count": 432,
   "outputs": [
    {
     "name": "stdout",
     "output_type": "stream",
     "text": [
      "+---+---+------------+-----+-------+\n",
      "|_c0|_c1|         _c2|  _c3|    _c4|\n",
      "+---+---+------------+-----+-------+\n",
      "|  U|  2|       bachu|shoes| 800.00|\n",
      "|  I|  5|   appu raja|watch|1000.00|\n",
      "|  I|  6|babu bisleri|cycle| 150.00|\n",
      "|  U|  5|        dadu|watch|1000.00|\n",
      "|  D|  6|babu bisleri|cycle| 150.00|\n",
      "+---+---+------------+-----+-------+\n"
     ]
    }
   ],
   "source": [
    "s3_bucket_updated_file=\"s3://cdc-pipeline-stage/sales/orders/20240811-191438099.csv\"\n",
    "\n",
    "updated_df = spark.read.format(\"csv\").load(s3_bucket_updated_file)\n",
    "updated_df.show()"
   ],
   "metadata": {
    "collapsed": false,
    "ExecuteTime": {
     "end_time": "2024-08-12T18:25:19.427959300Z",
     "start_time": "2024-08-12T18:25:17.365955Z"
    }
   }
  },
  {
   "cell_type": "code",
   "execution_count": 433,
   "outputs": [
    {
     "name": "stdout",
     "output_type": "stream",
     "text": [
      "\n"
     ]
    }
   ],
   "source": [
    "updated_df = updated_df \\\n",
    "        .withColumnRenamed(\"_c0\", \"action\") \\\n",
    "        .withColumnRenamed(\"_c1\", \"orderid\") \\\n",
    "        .withColumnRenamed(\"_c2\", \"customername\") \\\n",
    "        .withColumnRenamed(\"_c3\", \"productname\") \\\n",
    "        .withColumnRenamed(\"_c4\", \"orderamount\")\n"
   ],
   "metadata": {
    "collapsed": false,
    "ExecuteTime": {
     "end_time": "2024-08-12T18:25:20.336779300Z",
     "start_time": "2024-08-12T18:25:19.430950600Z"
    }
   }
  },
  {
   "cell_type": "code",
   "execution_count": 434,
   "outputs": [
    {
     "name": "stdout",
     "output_type": "stream",
     "text": [
      "+------+-------+------------+-----------+-----------+\n",
      "|action|orderid|customername|productname|orderamount|\n",
      "+------+-------+------------+-----------+-----------+\n",
      "|     U|      2|       bachu|      shoes|     800.00|\n",
      "|     I|      5|   appu raja|      watch|    1000.00|\n",
      "|     I|      6|babu bisleri|      cycle|     150.00|\n",
      "|     U|      5|        dadu|      watch|    1000.00|\n",
      "|     D|      6|babu bisleri|      cycle|     150.00|\n",
      "+------+-------+------------+-----------+-----------+\n"
     ]
    }
   ],
   "source": [
    "updated_df.show()"
   ],
   "metadata": {
    "collapsed": false,
    "ExecuteTime": {
     "end_time": "2024-08-12T18:25:21.143473600Z",
     "start_time": "2024-08-12T18:25:20.333749700Z"
    }
   }
  },
  {
   "cell_type": "code",
   "execution_count": 435,
   "outputs": [
    {
     "name": "stdout",
     "output_type": "stream",
     "text": [
      "[Row(action='U', orderid='2', customername='bachu', productname='shoes', orderamount='800.00'), Row(action='I', orderid='5', customername='appu raja', productname='watch', orderamount='1000.00'), Row(action='I', orderid='6', customername='babu bisleri', productname='cycle', orderamount='150.00'), Row(action='U', orderid='5', customername='dadu', productname='watch', orderamount='1000.00'), Row(action='D', orderid='6', customername='babu bisleri', productname='cycle', orderamount='150.00')]\n"
     ]
    }
   ],
   "source": [
    "updated_df.collect()"
   ],
   "metadata": {
    "collapsed": false,
    "ExecuteTime": {
     "end_time": "2024-08-12T18:25:21.951304200Z",
     "start_time": "2024-08-12T18:25:21.144500100Z"
    }
   }
  },
  {
   "cell_type": "markdown",
   "source": [],
   "metadata": {
    "collapsed": false
   }
  },
  {
   "cell_type": "code",
   "execution_count": 436,
   "outputs": [
    {
     "name": "stdout",
     "output_type": "stream",
     "text": [
      "\n"
     ]
    }
   ],
   "source": [
    "from pyspark.sql.functions import *"
   ],
   "metadata": {
    "collapsed": false,
    "ExecuteTime": {
     "end_time": "2024-08-12T18:25:22.791957600Z",
     "start_time": "2024-08-12T18:25:21.955292400Z"
    }
   }
  },
  {
   "cell_type": "code",
   "execution_count": 437,
   "outputs": [
    {
     "name": "stdout",
     "output_type": "stream",
     "text": [
      "\n"
     ]
    }
   ],
   "source": [
    "\n",
    "for row in updated_df.collect():\n",
    "\n",
    "    if row['action'] == 'U':\n",
    "        final_file_df=final_file_df.withColumn('customername',when(final_file_df[\"orderid\"] == row[\"orderid\"] ,row[\"customername\"]).otherwise(final_file_df[\"customername\"]))\n",
    "\n",
    "        final_file_df=final_file_df.withColumn('productname',when(final_file_df[\"orderid\"] == row[\"orderid\"] ,row[\"productname\"]).otherwise(final_file_df[\"productname\"]))\n",
    "\n",
    "        final_file_df=final_file_df.withColumn('orderamount',when(final_file_df[\"orderid\"] == row[\"orderid\"] ,row[\"orderamount\"]).otherwise(final_file_df[\"orderamount\"]))\n",
    "\n",
    "    if row['action'] == 'I':\n",
    "        inserted_row=[list(row)[1:]]\n",
    "        columns=['orderid','customername','productname','orderamount']\n",
    "        new_df=spark.createDataFrame(inserted_row,columns)\n",
    "        final_file_df=final_file_df.union(new_df)\n",
    "\n",
    "    if row['action'] == 'D':\n",
    "        final_file_df=final_file_df.filter(final_file_df.orderid != row['orderid'])"
   ],
   "metadata": {
    "collapsed": false,
    "ExecuteTime": {
     "end_time": "2024-08-12T18:25:23.739660600Z",
     "start_time": "2024-08-12T18:25:22.794948700Z"
    }
   }
  },
  {
   "cell_type": "code",
   "execution_count": 438,
   "outputs": [
    {
     "name": "stdout",
     "output_type": "stream",
     "text": [
      "+-------+-------------+-----------+-----------+\n",
      "|orderid| customername|productname|orderamount|\n",
      "+-------+-------------+-----------+-----------+\n",
      "|      1|     john doe|     laptop|    1200.00|\n",
      "|      2|        bachu|      shoes|     800.00|\n",
      "|      3|alice johnson|     tablet|     300.00|\n",
      "|      4|    bob brown| headphones|     150.00|\n",
      "|      5|         dadu|      watch|    1000.00|\n",
      "+-------+-------------+-----------+-----------+\n"
     ]
    }
   ],
   "source": [
    "final_file_df.show()"
   ],
   "metadata": {
    "collapsed": false,
    "ExecuteTime": {
     "end_time": "2024-08-12T18:25:25.848746900Z",
     "start_time": "2024-08-12T18:25:23.745643500Z"
    }
   }
  },
  {
   "cell_type": "code",
   "execution_count": null,
   "outputs": [],
   "source": [
    "final_file_df.write.mode(\"OVERWRITE\").parquet(\"s3://cdc-dms-final/sales/orders/final_output/final_file.parquet\")"
   ],
   "metadata": {
    "collapsed": false
   }
  }
 ],
 "metadata": {
  "kernelspec": {
   "name": "glue_pyspark",
   "language": "python",
   "display_name": "Glue PySpark"
  },
  "language_info": {
   "codemirror_mode": {
    "name": "ipython",
    "version": 2
   },
   "file_extension": ".py",
   "mimetype": "text/x-python",
   "name": "python",
   "nbconvert_exporter": "python",
   "pygments_lexer": "ipython2",
   "version": "2.7.6"
  }
 },
 "nbformat": 4,
 "nbformat_minor": 0
}
